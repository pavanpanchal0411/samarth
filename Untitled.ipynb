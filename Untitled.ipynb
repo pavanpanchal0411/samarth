{
 "cells": [
  {
   "cell_type": "code",
   "execution_count": 31,
   "id": "4aa74c7e-b716-4cd0-a527-effd697c673a",
   "metadata": {},
   "outputs": [
    {
     "data": {
      "text/html": [
       "<div>\n",
       "<style scoped>\n",
       "    .dataframe tbody tr th:only-of-type {\n",
       "        vertical-align: middle;\n",
       "    }\n",
       "\n",
       "    .dataframe tbody tr th {\n",
       "        vertical-align: top;\n",
       "    }\n",
       "\n",
       "    .dataframe thead th {\n",
       "        text-align: right;\n",
       "    }\n",
       "</style>\n",
       "<table border=\"1\" class=\"dataframe\">\n",
       "  <thead>\n",
       "    <tr style=\"text-align: right;\">\n",
       "      <th></th>\n",
       "      <th>Name</th>\n",
       "      <th>Subtitle</th>\n",
       "      <th>Acceleration</th>\n",
       "      <th>TopSpeed</th>\n",
       "      <th>Range</th>\n",
       "      <th>Efficiency</th>\n",
       "      <th>FastChargeSpeed</th>\n",
       "      <th>Drive</th>\n",
       "      <th>NumberofSeats</th>\n",
       "      <th>PriceinGermany</th>\n",
       "      <th>PriceinUK</th>\n",
       "    </tr>\n",
       "  </thead>\n",
       "  <tbody>\n",
       "    <tr>\n",
       "      <th>0</th>\n",
       "      <td>Lucid Air Dream Edition P</td>\n",
       "      <td>118 kWh useable battery          Available sin...</td>\n",
       "      <td>2.7 sec</td>\n",
       "      <td>270 km/h</td>\n",
       "      <td>645 km</td>\n",
       "      <td>183 Wh/km</td>\n",
       "      <td>820 km/h</td>\n",
       "      <td>All Wheel Drive</td>\n",
       "      <td>5</td>\n",
       "      <td>€218,000</td>\n",
       "      <td>NaN</td>\n",
       "    </tr>\n",
       "    <tr>\n",
       "      <th>1</th>\n",
       "      <td>Porsche Taycan Turbo S</td>\n",
       "      <td>83.7 kWh useable battery          Available si...</td>\n",
       "      <td>2.8 sec</td>\n",
       "      <td>260 km/h</td>\n",
       "      <td>400 km</td>\n",
       "      <td>209 Wh/km</td>\n",
       "      <td>980 km/h</td>\n",
       "      <td>All Wheel Drive</td>\n",
       "      <td>4</td>\n",
       "      <td>€189,668</td>\n",
       "      <td>£142,400</td>\n",
       "    </tr>\n",
       "    <tr>\n",
       "      <th>2</th>\n",
       "      <td>Audi e-tron GT RS</td>\n",
       "      <td>85 kWh useable battery          Available sinc...</td>\n",
       "      <td>3.3 sec</td>\n",
       "      <td>250 km/h</td>\n",
       "      <td>405 km</td>\n",
       "      <td>210 Wh/km</td>\n",
       "      <td>1000 km/h</td>\n",
       "      <td>All Wheel Drive</td>\n",
       "      <td>4</td>\n",
       "      <td>€146,050</td>\n",
       "      <td>£115,000</td>\n",
       "    </tr>\n",
       "    <tr>\n",
       "      <th>3</th>\n",
       "      <td>Renault Zoe ZE50 R110</td>\n",
       "      <td>52 kWh useable battery          Available sinc...</td>\n",
       "      <td>11.4 sec</td>\n",
       "      <td>135 km/h</td>\n",
       "      <td>315 km</td>\n",
       "      <td>165 Wh/km</td>\n",
       "      <td>230 km/h</td>\n",
       "      <td>Front Wheel Drive</td>\n",
       "      <td>5</td>\n",
       "      <td>€36,840</td>\n",
       "      <td>NaN</td>\n",
       "    </tr>\n",
       "    <tr>\n",
       "      <th>4</th>\n",
       "      <td>Audi Q4 e-tron 35</td>\n",
       "      <td>52 kWh useable battery          Available sinc...</td>\n",
       "      <td>9.0 sec</td>\n",
       "      <td>160 km/h</td>\n",
       "      <td>285 km</td>\n",
       "      <td>182 Wh/km</td>\n",
       "      <td>360 km/h</td>\n",
       "      <td>Rear Wheel Drive</td>\n",
       "      <td>5</td>\n",
       "      <td>NaN</td>\n",
       "      <td>NaN</td>\n",
       "    </tr>\n",
       "  </tbody>\n",
       "</table>\n",
       "</div>"
      ],
      "text/plain": [
       "                        Name  \\\n",
       "0  Lucid Air Dream Edition P   \n",
       "1     Porsche Taycan Turbo S   \n",
       "2          Audi e-tron GT RS   \n",
       "3      Renault Zoe ZE50 R110   \n",
       "4          Audi Q4 e-tron 35   \n",
       "\n",
       "                                            Subtitle Acceleration  TopSpeed  \\\n",
       "0  118 kWh useable battery          Available sin...      2.7 sec  270 km/h   \n",
       "1  83.7 kWh useable battery          Available si...      2.8 sec  260 km/h   \n",
       "2  85 kWh useable battery          Available sinc...      3.3 sec  250 km/h   \n",
       "3  52 kWh useable battery          Available sinc...     11.4 sec  135 km/h   \n",
       "4  52 kWh useable battery          Available sinc...      9.0 sec  160 km/h   \n",
       "\n",
       "    Range Efficiency FastChargeSpeed              Drive  NumberofSeats  \\\n",
       "0  645 km  183 Wh/km        820 km/h    All Wheel Drive              5   \n",
       "1  400 km  209 Wh/km        980 km/h    All Wheel Drive              4   \n",
       "2  405 km  210 Wh/km       1000 km/h    All Wheel Drive              4   \n",
       "3  315 km  165 Wh/km        230 km/h  Front Wheel Drive              5   \n",
       "4  285 km  182 Wh/km        360 km/h   Rear Wheel Drive              5   \n",
       "\n",
       "  PriceinGermany PriceinUK  \n",
       "0       €218,000       NaN  \n",
       "1       €189,668  £142,400  \n",
       "2       €146,050  £115,000  \n",
       "3        €36,840       NaN  \n",
       "4            NaN       NaN  "
      ]
     },
     "execution_count": 31,
     "metadata": {},
     "output_type": "execute_result"
    }
   ],
   "source": [
    "import pandas as pd\n",
    "df=pd.read_csv(\"Cheapestelectriccars-EVDatabase 2023 (1).csv\")\n",
    "df.head()"
   ]
  },
  {
   "cell_type": "code",
   "execution_count": 32,
   "id": "dba6ce77-163f-4d76-a047-0787df9d2b37",
   "metadata": {},
   "outputs": [
    {
     "name": "stdout",
     "output_type": "stream",
     "text": [
      "<class 'pandas.core.frame.DataFrame'>\n",
      "RangeIndex: 309 entries, 0 to 308\n",
      "Data columns (total 11 columns):\n",
      " #   Column           Non-Null Count  Dtype \n",
      "---  ------           --------------  ----- \n",
      " 0   Name             309 non-null    object\n",
      " 1   Subtitle         309 non-null    object\n",
      " 2   Acceleration     309 non-null    object\n",
      " 3   TopSpeed         309 non-null    object\n",
      " 4   Range            309 non-null    object\n",
      " 5   Efficiency       309 non-null    object\n",
      " 6   FastChargeSpeed  309 non-null    object\n",
      " 7   Drive            309 non-null    object\n",
      " 8   NumberofSeats    309 non-null    int64 \n",
      " 9   PriceinGermany   282 non-null    object\n",
      " 10  PriceinUK        198 non-null    object\n",
      "dtypes: int64(1), object(10)\n",
      "memory usage: 26.7+ KB\n"
     ]
    }
   ],
   "source": [
    "df.info()\n"
   ]
  },
  {
   "cell_type": "code",
   "execution_count": 33,
   "id": "ac67fc92-a197-492d-9c25-bfd25a197bf4",
   "metadata": {},
   "outputs": [],
   "source": [
    "df=df['PriceinGermany']\n"
   ]
  },
  {
   "cell_type": "code",
   "execution_count": 34,
   "id": "be16066d-18b3-46cc-9629-0e612719eecf",
   "metadata": {},
   "outputs": [
    {
     "data": {
      "text/plain": [
       "0      €218,000\n",
       "1      €189,668\n",
       "2      €146,050\n",
       "3       €36,840\n",
       "4           NaN\n",
       "         ...   \n",
       "304     €55,000\n",
       "305     €60,000\n",
       "306     €60,000\n",
       "307     €65,000\n",
       "308         NaN\n",
       "Name: PriceinGermany, Length: 309, dtype: object"
      ]
     },
     "execution_count": 34,
     "metadata": {},
     "output_type": "execute_result"
    }
   ],
   "source": [
    "df.str.lstrip()"
   ]
  },
  {
   "cell_type": "code",
   "execution_count": 35,
   "id": "be903d29-b9bb-42f9-97c9-f1cc18032a61",
   "metadata": {},
   "outputs": [
    {
     "data": {
      "text/plain": [
       "0      €218,000\n",
       "1      €189,668\n",
       "2      €146,050\n",
       "3       €36,840\n",
       "4           NaN\n",
       "         ...   \n",
       "304     €55,000\n",
       "305     €60,000\n",
       "306     €60,000\n",
       "307     €65,000\n",
       "308         NaN\n",
       "Name: PriceinGermany, Length: 309, dtype: object"
      ]
     },
     "execution_count": 35,
     "metadata": {},
     "output_type": "execute_result"
    }
   ],
   "source": [
    "df"
   ]
  },
  {
   "cell_type": "code",
   "execution_count": 36,
   "id": "4c221771-95b5-4a6f-9baf-f04bc8d74e18",
   "metadata": {},
   "outputs": [
    {
     "data": {
      "text/plain": [
       "<bound method Series.dropna of 0      €218,000\n",
       "1      €189,668\n",
       "2      €146,050\n",
       "3       €36,840\n",
       "4           NaN\n",
       "         ...   \n",
       "304     €55,000\n",
       "305     €60,000\n",
       "306     €60,000\n",
       "307     €65,000\n",
       "308         NaN\n",
       "Name: PriceinGermany, Length: 309, dtype: object>"
      ]
     },
     "execution_count": 36,
     "metadata": {},
     "output_type": "execute_result"
    }
   ],
   "source": [
    "df.dropna"
   ]
  },
  {
   "cell_type": "code",
   "execution_count": 37,
   "id": "ac83ad31-d82d-4268-8517-78f98e0ce1d7",
   "metadata": {},
   "outputs": [
    {
     "data": {
      "text/plain": [
       "0      €218,000\n",
       "1      €189,668\n",
       "2      €146,050\n",
       "3       €36,840\n",
       "5       €63,667\n",
       "         ...   \n",
       "303    €200,000\n",
       "304     €55,000\n",
       "305     €60,000\n",
       "306     €60,000\n",
       "307     €65,000\n",
       "Name: PriceinGermany, Length: 282, dtype: object"
      ]
     },
     "execution_count": 37,
     "metadata": {},
     "output_type": "execute_result"
    }
   ],
   "source": [
    "df.dropna()"
   ]
  },
  {
   "cell_type": "code",
   "execution_count": 1,
   "id": "9fbe6f84-c0c8-4783-9cea-6c9b48c95b15",
   "metadata": {},
   "outputs": [
    {
     "ename": "NameError",
     "evalue": "name 'df' is not defined",
     "output_type": "error",
     "traceback": [
      "\u001b[1;31m---------------------------------------------------------------------------\u001b[0m",
      "\u001b[1;31mNameError\u001b[0m                                 Traceback (most recent call last)",
      "Cell \u001b[1;32mIn[1], line 1\u001b[0m\n\u001b[1;32m----> 1\u001b[0m \u001b[43mdf\u001b[49m[\u001b[38;5;241m1\u001b[39m]\n",
      "\u001b[1;31mNameError\u001b[0m: name 'df' is not defined"
     ]
    }
   ],
   "source": [
    "df[1]\n"
   ]
  },
  {
   "cell_type": "code",
   "execution_count": null,
   "id": "79cc6bad-1cae-42a2-aaa8-6b27fc315ec5",
   "metadata": {},
   "outputs": [],
   "source": []
  }
 ],
 "metadata": {
  "kernelspec": {
   "display_name": "Python 3 (ipykernel)",
   "language": "python",
   "name": "python3"
  },
  "language_info": {
   "codemirror_mode": {
    "name": "ipython",
    "version": 3
   },
   "file_extension": ".py",
   "mimetype": "text/x-python",
   "name": "python",
   "nbconvert_exporter": "python",
   "pygments_lexer": "ipython3",
   "version": "3.12.4"
  }
 },
 "nbformat": 4,
 "nbformat_minor": 5
}
